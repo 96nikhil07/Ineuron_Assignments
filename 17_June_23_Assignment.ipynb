{
 "cells": [
  {
   "cell_type": "code",
   "execution_count": null,
   "id": "ee07a634",
   "metadata": {},
   "outputs": [],
   "source": [
    "#1.What is the role of try and exception block?\n",
    "'''\n",
    "The 'try' and 'except' blocks in Python are used for error handling and exception handling. \n",
    "They allow you to gracefully handle runtime errors or exceptional situations in your code, \n",
    "preventing your program from crashing when something unexpected occurs.\n",
    "\n",
    "-> Here's the role of the try and except blocks:\n",
    "\n",
    "i)Error Detection: The try block is used to enclose the code that might raise an exception or an error. \n",
    "                  It allows you to specify a section of code where you expect errors to occur.\n",
    "\n",
    "ii)Exception Handling: The except block, which follows the try block, contains the code that is executed \n",
    "                       if an exception occurs within the try block. It provides a mechanism to handle the exception gracefully.\n",
    "\n",
    "iii)Preventing Program Crashes: Using try and except blocks prevents your program from abruptly terminating \n",
    "                                when an exception is raised. Instead of crashing, your program can take appropriate actions, \n",
    "                                display error messages, or perform cleanup operations.\n",
    "\n",
    "iv)Multiple Except Blocks: You can have multiple except blocks to handle different types of exceptions. \n",
    "                          This allows you to handle different error scenarios in a customized way.\n",
    "'''"
   ]
  },
  {
   "cell_type": "code",
   "execution_count": null,
   "id": "355b020f",
   "metadata": {},
   "outputs": [],
   "source": [
    "#2.What is the syntax for a basic try-except block?\n",
    "\n",
    "try:\n",
    "    # Code that may raise an exception\n",
    "    # ...\n",
    "except ExceptionType:\n",
    "    # Code to handle the exception\n",
    "    # ...\n"
   ]
  },
  {
   "cell_type": "code",
   "execution_count": null,
   "id": "128e7ac8",
   "metadata": {},
   "outputs": [],
   "source": [
    "#3.What happens if an exception occurs inside a try block and there is no matching except block?\n",
    "'''\n",
    "If an exception occurs inside a 'try' block and there is no matching except block to handle that exception, \n",
    "the program will terminate, and an unhandled exception traceback will be displayed. \n",
    "This traceback provides information about the exception type, the location in the code where it occurred, \n",
    "and the call stack leading up to the exception.\n",
    "'''\n",
    "\n",
    "try:\n",
    "    x = 10 / 0  # This will raise a ZeroDivisionError\n",
    "except ValueError:\n",
    "    print(\"This won't execute since the exception is not caught.\")\n",
    "    \n",
    "'''\n",
    "In this code, a ZeroDivisionError is raised because you're trying to divide by zero. However, \n",
    "there is no except block that specifically handles ZeroDivisionError. As a result, the program will terminate, \n",
    "and you'll see an error message similar to the following:\n",
    "ZeroDivisionError: division by zero\n",
    "'''"
   ]
  },
  {
   "cell_type": "code",
   "execution_count": null,
   "id": "647d754e",
   "metadata": {},
   "outputs": [],
   "source": [
    "#4.What is the difference between using a bare except block and specifying a specific exception type?\n",
    "\n",
    "'''\n",
    "The main difference between using a bare except block and specifying a specific exception type in a \n",
    "try-except block is in how they handle exceptions:\n",
    "\n",
    "i)Specific Exception Type:\n",
    "\n",
    "->When you specify a specific exception type in an except block, such as except ValueError, \n",
    "  that except block will only catch and handle exceptions of that exact type or its subclasses.\n",
    "->It allows you to handle specific exceptions in a fine-grained manner. For example, you can catch \n",
    "  and handle ValueError separately from other exceptions.\n",
    "->You can have multiple except blocks with different exception types to handle various types of exceptions individually.\n",
    "\n",
    "ii)Bare except Block (General Exception Handling):\n",
    "\n",
    "->When you use a bare except block (i.e., except: without specifying an exception type), \n",
    "  it catches and handles any exception that occurs within the try block.\n",
    "->It is a more general approach and can be used to catch unexpected exceptions that you may not have anticipated.\n",
    "->While it can be convenient for handling unknown exceptions or debugging, \n",
    "  it should be used sparingly because it makes it harder to diagnose and fix specific issues.\n",
    "  \n",
    "'''"
   ]
  },
  {
   "cell_type": "code",
   "execution_count": 4,
   "id": "aa4d0e2d",
   "metadata": {},
   "outputs": [
    {
     "name": "stdout",
     "output_type": "stream",
     "text": [
      "Enter a number: 2\n",
      "Enter another number: 0\n",
      "Inner Error: Cannot divide by zero.\n"
     ]
    },
    {
     "data": {
      "text/plain": [
       "'\\n    In this example:\\n\\n->The outer try-except block handles exceptions related to the first user input (x). \\n  It can catch both ZeroDivisionError and ValueError.\\n->The inner try-except block handles exceptions related to the second user input (y) \\n  and the division operation. It can catch ZeroDivisionError and ValueError exceptions specific to the second input.\\n\\n'"
      ]
     },
     "execution_count": 4,
     "metadata": {},
     "output_type": "execute_result"
    }
   ],
   "source": [
    "#5.Can you have nested try-except blocks in Python? If yes, then give an example.\n",
    "\n",
    "'''\n",
    "Yes, you can have nested try-except blocks in Python. This allows you to handle exceptions \n",
    "at different levels of granularity and provides more fine-grained control over how exceptions are handled. \n",
    "In a nested structure, an inner try-except block can be placed inside an outer try-except block. \n",
    "Here's an example:\n",
    "'''\n",
    "\n",
    "try:\n",
    "    # Outer try block\n",
    "    x = int(input(\"Enter a number: \"))\n",
    "    result = 10 / x\n",
    "\n",
    "    try:\n",
    "        # Inner try block\n",
    "        y = int(input(\"Enter another number: \"))\n",
    "        division_result = result / y\n",
    "        print(\"Result:\", division_result)\n",
    "    except ZeroDivisionError:\n",
    "        print(\"Inner Error: Cannot divide by zero.\")\n",
    "    except ValueError:\n",
    "        print(\"Inner Error: Invalid input. Please enter a valid number.\")\n",
    "\n",
    "except ZeroDivisionError:\n",
    "    print(\"Outer Error: Cannot divide by zero.\")\n",
    "except ValueError:\n",
    "    print(\"Outer Error: Invalid input. Please enter a valid number.\")\n",
    "\n",
    "'''\n",
    "    In this example:\n",
    "\n",
    "->The outer try-except block handles exceptions related to the first user input (x). \n",
    "  It can catch both ZeroDivisionError and ValueError.\n",
    "->The inner try-except block handles exceptions related to the second user input (y) \n",
    "  and the division operation. It can catch ZeroDivisionError and ValueError exceptions specific to the second input.\n",
    "\n",
    "'''"
   ]
  },
  {
   "cell_type": "code",
   "execution_count": 7,
   "id": "2a1e2319",
   "metadata": {},
   "outputs": [
    {
     "name": "stdout",
     "output_type": "stream",
     "text": [
      "Enter a number: 0\n",
      "Error: Cannot divide by zero.\n"
     ]
    },
    {
     "data": {
      "text/plain": [
       "'    \\nIn this example:\\n\\nThe try block attempts to perform a division operation and print the result.\\n\\nThere are three except blocks:\\n\\n->except ZeroDivisionError: This block handles the ZeroDivisionError exception that may occur when the user enters 0.\\n->except ValueError: This block handles the ValueError exception that may occur when the user enters a non-integer input.\\n->except KeyboardInterrupt: This block handles the KeyboardInterrupt exception, which occurs when the user interrupts the \\n                            program (e.g., by pressing Ctrl+C).\\n\\nEach except block is responsible for handling a specific type of exception, and \\nit provides an appropriate error message or response.\\n'"
      ]
     },
     "execution_count": 7,
     "metadata": {},
     "output_type": "execute_result"
    }
   ],
   "source": [
    "#6.Can we use multiple exception blocks, if yes then give an example.\n",
    "\n",
    "'''\n",
    "Yes, you can use multiple except blocks to handle different types of exceptions in a try-except structure in Python. \n",
    "Each except block can specify a different exception type that it is responsible for handling. \n",
    "Here's an example:\n",
    "'''\n",
    "\n",
    "try:\n",
    "    x = int(input(\"Enter a number: \"))\n",
    "    result = 10 / x\n",
    "    print(\"Result:\", result)\n",
    "except ZeroDivisionError:\n",
    "    print(\"Error: Cannot divide by zero.\")\n",
    "except ValueError:\n",
    "    print(\"Error: Invalid input. Please enter a valid number.\")\n",
    "except KeyboardInterrupt:\n",
    "    print(\"Error: Keyboard interruption occurred.\")\n",
    "\n",
    "'''    \n",
    "In this example:\n",
    "\n",
    "The try block attempts to perform a division operation and print the result.\n",
    "\n",
    "There are three except blocks:\n",
    "\n",
    "->except ZeroDivisionError: This block handles the ZeroDivisionError exception that may occur when the user enters 0.\n",
    "->except ValueError: This block handles the ValueError exception that may occur when the user enters a non-integer input.\n",
    "->except KeyboardInterrupt: This block handles the KeyboardInterrupt exception, which occurs when the user interrupts the \n",
    "                            program (e.g., by pressing Ctrl+C).\n",
    "\n",
    "Each except block is responsible for handling a specific type of exception, and \n",
    "it provides an appropriate error message or response.\n",
    "'''\n"
   ]
  },
  {
   "cell_type": "code",
   "execution_count": null,
   "id": "13990683",
   "metadata": {},
   "outputs": [],
   "source": [
    "#7.Write the reason due to which following errors are raised:\n",
    "#a. EOFError\n",
    "#b. FloatingPointError\n",
    "#c. IndexError\n",
    "#d. MemoryError\n",
    "#e. OverflowError\n",
    "#f. TabError\n",
    "#g. ValueError\n",
    "\n",
    "\n",
    "'''\n",
    "a. EOFError:\n",
    "\n",
    "EOFError stands for \"End of File Error.\" It occurs when an operation that expects more \n",
    "data or input reaches the end of a file or stream unexpectedly. For example, \n",
    "if you attempt to read more data from a file or standard input than is available, an EOFError is raised.\n",
    "\n",
    "b. FloatingPointError:\n",
    "\n",
    "FloatingPointError occurs when there is an issue with floating-point arithmetic, such as division \n",
    "by zero or a mathematical operation that results in a value that cannot be represented as a finite \n",
    "floating-point number. For example, attempting to divide by zero or performing a mathematically \n",
    "invalid operation on floating-point numbers can lead to this error.\n",
    "\n",
    "c. IndexError:\n",
    "\n",
    "IndexError occurs when you try to access an index in a sequence \n",
    "(like a list, tuple, or string) that is out of bounds or does not exist. \n",
    "It indicates that the index you provided is either negative or greater than or equal to the length of the sequence.\n",
    "\n",
    "d. MemoryError:\n",
    "\n",
    "MemoryError occurs when there is insufficient memory available to complete an operation, \n",
    "such as allocating memory for a large data structure or object. This error indicates that \n",
    "the system has run out of available memory resources.\n",
    "\n",
    "e. OverflowError:\n",
    "\n",
    "OverflowError occurs when a mathematical operation results in a value that exceeds the maximum \n",
    "representable value for a numeric type, such as an integer. It typically happens during arithmetic \n",
    "operations that produce results outside the valid range of the data type.\n",
    "\n",
    "f. TabError:\n",
    "\n",
    "TabError is raised when there are inconsistent or improper use of tabs and spaces for \n",
    "indentation in Python code. Python relies on consistent indentation to determine the structure \n",
    "of the code, and mixing tabs and spaces or using them incorrectly can lead to this error.\n",
    "\n",
    "g. ValueError:\n",
    "\n",
    "ValueError is a general-purpose exception that is raised when an operation or function receives \n",
    "an argument of the correct data type but with an inappropriate or invalid value. It typically occurs \n",
    "when the input provided to a function is not within the expected range or is of the wrong type.\n",
    "\n",
    "'''"
   ]
  },
  {
   "cell_type": "code",
   "execution_count": null,
   "id": "6687dbef",
   "metadata": {},
   "outputs": [],
   "source": [
    "#8.Write code for the following given scenario and add try-exception block to it.\n",
    "#a. Program to divide two numbers\n",
    "#b. Program to convert a string to an integer\n",
    "#c. Program to access an element in a list\n",
    "#d. Program to handle a specific exception\n",
    "#e. Program to handle any exception\n"
   ]
  },
  {
   "cell_type": "code",
   "execution_count": 10,
   "id": "0c6f13cf",
   "metadata": {},
   "outputs": [
    {
     "name": "stdout",
     "output_type": "stream",
     "text": [
      "Enter the numerator: 3\n",
      "Enter the denominator: 0\n",
      "Error: Division by zero is not allowed.\n"
     ]
    }
   ],
   "source": [
    "#a. Program to divide two numbers\n",
    "try:\n",
    "    numerator = float(input(\"Enter the numerator: \"))\n",
    "    denominator = float(input(\"Enter the denominator: \"))\n",
    "\n",
    "    # Division operation\n",
    "    result = numerator / denominator\n",
    "\n",
    "    # Output the result\n",
    "    print(\"Result:\", result)\n",
    "\n",
    "except ZeroDivisionError:\n",
    "    # Handle division by zero error\n",
    "    print(\"Error: Division by zero is not allowed.\")\n",
    "except ValueError:\n",
    "    # Handle invalid input (non-numeric values)\n",
    "    print(\"Error: Please enter valid numeric values.\")\n",
    "except Exception as e:\n",
    "    # Handle other unexpected exceptions\n",
    "    print(f\"An unexpected error occurred: {e}\")\n"
   ]
  },
  {
   "cell_type": "code",
   "execution_count": 14,
   "id": "5235ee7e",
   "metadata": {},
   "outputs": [
    {
     "name": "stdout",
     "output_type": "stream",
     "text": [
      "Enter a string to convert to an integer: '67'\n",
      "Error: Unable to convert the string to an integer.\n"
     ]
    }
   ],
   "source": [
    "#b. Program to convert a string to an integer\n",
    "try:\n",
    "    # Input: Prompt the user to enter a string\n",
    "    string_input = input(\"Enter a string to convert to an integer: \")\n",
    "\n",
    "    # Attempt to convert the string to an integer\n",
    "    integer_value = int(string_input)\n",
    "\n",
    "    # Output the converted integer\n",
    "    print(\"Converted Integer:\", integer_value)\n",
    "\n",
    "except ValueError:\n",
    "    # Handle the ValueError if the input string cannot be converted to an integer\n",
    "    print(\"Error: Unable to convert the string to an integer.\")\n",
    "except Exception as e:\n",
    "    # Handle other unexpected exceptions\n",
    "    print(f\"An unexpected error occurred: {e}\")\n",
    "\n"
   ]
  },
  {
   "cell_type": "code",
   "execution_count": 21,
   "id": "d3ce43e5",
   "metadata": {},
   "outputs": [
    {
     "name": "stdout",
     "output_type": "stream",
     "text": [
      "Enter an index to access: 8\n",
      "Error: Index is out of bounds.\n"
     ]
    }
   ],
   "source": [
    "#c.Program to access an element in a list\n",
    "try:\n",
    "    # Sample list\n",
    "    my_list = [10, 20, 30, 40, 50]\n",
    "\n",
    "    # Input: Prompt the user to enter an index\n",
    "    index = int(input(\"Enter an index to access: \"))\n",
    "\n",
    "    # Attempt to access the element at the specified index\n",
    "    element = my_list[index]\n",
    "\n",
    "    # Output the accessed element\n",
    "    print(\"Element at index\", index, \"is:\", element)\n",
    "\n",
    "except IndexError:\n",
    "    # Handle the IndexError if the index is out of bounds\n",
    "    print(\"Error: Index is out of bounds.\")\n",
    "except ValueError:\n",
    "    # Handle the ValueError if the input is not a valid integer\n",
    "    print(\"Error: Invalid input. Please enter a valid index.\")\n",
    "except Exception as e:\n",
    "    # Handle other unexpected exceptions\n",
    "    print(f\"An unexpected error occurred: {e}\")\n"
   ]
  },
  {
   "cell_type": "code",
   "execution_count": 20,
   "id": "1f6401d5",
   "metadata": {},
   "outputs": [
    {
     "name": "stdout",
     "output_type": "stream",
     "text": [
      "Enter a number: -8\n",
      "Error: Negative numbers are not allowed.\n"
     ]
    }
   ],
   "source": [
    "#d. Program to handle a specific exception\n",
    "try:\n",
    "    # Attempt a specific operation that may raise a specific exception\n",
    "    number = int(input(\"Enter a number: \"))\n",
    "    \n",
    "    # Raise a custom exception if the number is negative\n",
    "    if number < 0:\n",
    "        raise ValueError(\"Negative numbers are not allowed.\")\n",
    "\n",
    "    # Output the result if no exception is raised\n",
    "    print(\"Entered number:\", number)\n",
    "\n",
    "except ValueError as ve:\n",
    "    # Handle the specific ValueError exception\n",
    "    print(f\"Error: {ve}\")\n",
    "\n",
    "except Exception as e:\n",
    "    # Handle other unexpected exceptions\n",
    "    print(f\"An unexpected error occurred: {e}\")\n"
   ]
  },
  {
   "cell_type": "code",
   "execution_count": 19,
   "id": "0ba34b13",
   "metadata": {},
   "outputs": [
    {
     "name": "stdout",
     "output_type": "stream",
     "text": [
      "Enter the dividend: 78\n",
      "Enter the divisor: 0\n",
      "An error occurred: division by zero\n"
     ]
    }
   ],
   "source": [
    "#e. Program to handle any exception\n",
    "try:\n",
    "    # Attempt an operation that may raise an exception\n",
    "    dividend = int(input(\"Enter the dividend: \"))\n",
    "    divisor = int(input(\"Enter the divisor: \"))\n",
    "\n",
    "    # Perform the division operation\n",
    "    result = dividend / divisor\n",
    "\n",
    "    # Output the result if no exception is raised\n",
    "    print(\"Result:\", result)\n",
    "\n",
    "except Exception as e:\n",
    "    # Handle any exception (generic exception handler)\n",
    "    print(f\"An error occurred: {e}\")\n"
   ]
  },
  {
   "cell_type": "code",
   "execution_count": null,
   "id": "de787467",
   "metadata": {},
   "outputs": [],
   "source": []
  }
 ],
 "metadata": {
  "kernelspec": {
   "display_name": "Python 3 (ipykernel)",
   "language": "python",
   "name": "python3"
  },
  "language_info": {
   "codemirror_mode": {
    "name": "ipython",
    "version": 3
   },
   "file_extension": ".py",
   "mimetype": "text/x-python",
   "name": "python",
   "nbconvert_exporter": "python",
   "pygments_lexer": "ipython3",
   "version": "3.9.12"
  }
 },
 "nbformat": 4,
 "nbformat_minor": 5
}
