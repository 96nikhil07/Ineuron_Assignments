{
 "cells": [
  {
   "cell_type": "code",
   "execution_count": null,
   "id": "642d8c7d",
   "metadata": {},
   "outputs": [],
   "source": [
    "#1. What is a lambda function in Python, and how does it differ from a regular function?\n",
    "\n",
    "'''\n",
    "A lambda function in Python is a small anonymous function that is defined using the lambda keyword. \n",
    "Lambda functions are also known as anonymous functions or lambda expressions. They are typically used for short, \n",
    "simple operations that can be defined in a single line of code. The basic syntax of a lambda function is as follows:\n",
    "\n",
    "lambda arguments: expression\n",
    "\n",
    "Here's a breakdown of how lambda functions differ from regular (named) functions:\n",
    "\n",
    "1.Syntax: Lambda functions have a compact and simplified syntax. They don't use the def keyword, and they have no name.\n",
    "\n",
    "2.Anonymous: Lambda functions are anonymous, meaning they have no explicit name. \n",
    "             They are defined on the fly and are often used when a small function is needed temporarily.\n",
    "\n",
    "3.Single Expression: Lambda functions are limited to a single expression. They can't contain multiple \n",
    "                     statements or complex logic. The result of the expression is automatically returned.\n",
    "\n",
    "4.Limited Use Cases: Lambda functions are best suited for simple, one-off operations. They are not suitable \n",
    "                    for more complex functions that require multiple lines of code or have extensive logic.\n",
    "\n",
    "5.Concise: Lambda functions are concise and can be used as inline functions within expressions or as \n",
    "           arguments to higher-order functions like map, filter, and sorted.\n",
    "'''"
   ]
  },
  {
   "cell_type": "code",
   "execution_count": 2,
   "id": "4842bcd0",
   "metadata": {},
   "outputs": [
    {
     "name": "stdout",
     "output_type": "stream",
     "text": [
      "8\n"
     ]
    }
   ],
   "source": [
    "#2. Can a lambda function in Python have multiple arguments? If yes, how can you define and use them?\n",
    "\n",
    "'''\n",
    "Yes, a lambda function in Python can have multiple arguments. You can define and use multiple arguments \n",
    "in a lambda function by separating them with commas within the parentheses. Here's the general syntax:\n",
    "lambda argument1, argument2, ...: expression\n",
    "example:\n",
    "'''\n",
    "add = lambda x, y: x + y\n",
    "result = add(3, 5)  # result is 8\n",
    "print(result)"
   ]
  },
  {
   "cell_type": "code",
   "execution_count": 3,
   "id": "f85609d6",
   "metadata": {},
   "outputs": [
    {
     "data": {
      "text/plain": [
       "'\\n5.Callbacks: Lambda functions are often used as callback functions in event-driven programming and GUI frameworks.\\n\\n6.Quick Testing: For quick testing and experimentation, you can use lambda functions to perform simple \\n  calculations or checks without writing a complete function.\\n\\n7.Higher-Order Functions: Lambda functions are used as arguments to higher-order functions that accept \\n  functions as parameters, such as sorted(), map(), and filter().\\n'"
      ]
     },
     "execution_count": 3,
     "metadata": {},
     "output_type": "execute_result"
    }
   ],
   "source": [
    "#3. How are lambda functions typically used in Python? Provide an example use case.\n",
    "\n",
    "'''\n",
    "Lambda functions in Python are typically used in various contexts where you need short, \n",
    "anonymous functions for one-off operations or as arguments to higher-order functions. Here are some \n",
    "common use cases for lambda functions:\n",
    "\n",
    "1.Sorting Lists of Objects: Lambda functions can be used with functions like sorted() to specify custom \n",
    "sorting criteria. For example, sorting a list of dictionaries based on a specific key:\n",
    "'''\n",
    "students = [{'name': 'Alice', 'age': 25}, {'name': 'Bob', 'age': 22}, {'name': 'Eve', 'age': 28}]\n",
    "sorted_students = sorted(students, key=lambda student: student['age'])\n",
    "\n",
    "'''\n",
    "2.Filtering and Mapping: Lambda functions are often used with filter() and map() functions to filter \n",
    "and transform data. For instance, filtering even numbers from a list:\n",
    "'''\n",
    "numbers = [1, 2, 3, 4, 5, 6, 7, 8, 9]\n",
    "even_numbers = list(filter(lambda x: x % 2 == 0, numbers))\n",
    "\n",
    "'''\n",
    "3.Anonymous Functions: When you need a simple, short function for a specific operation without defining a \n",
    "named function, lambda functions are handy. For example, multiplying each element in a list by a constant:\n",
    "'''\n",
    "numbers = [1, 2, 3, 4, 5]\n",
    "doubled_numbers = list(map(lambda x: x * 2, numbers))\n",
    "\n",
    "'''\n",
    "4.Key Functions for max() and min(): You can use lambda functions as the key argument in functions like \n",
    "max() and min() to find the maximum or minimum value based on custom criteria.\n",
    "'''\n",
    "words = ['apple', 'banana', 'cherry', 'date']\n",
    "longest_word = max(words, key=lambda word: len(word))\n",
    "\n",
    "'''\n",
    "5.Callbacks: Lambda functions are often used as callback functions in event-driven programming and GUI frameworks.\n",
    "\n",
    "6.Quick Testing: For quick testing and experimentation, you can use lambda functions to perform simple \n",
    "  calculations or checks without writing a complete function.\n",
    "\n",
    "7.Higher-Order Functions: Lambda functions are used as arguments to higher-order functions that accept \n",
    "  functions as parameters, such as sorted(), map(), and filter().\n",
    "'''\n"
   ]
  },
  {
   "cell_type": "code",
   "execution_count": null,
   "id": "3cce2414",
   "metadata": {},
   "outputs": [],
   "source": [
    "## 4. What are the advantages and limitations of lambda functions compared to regular functions in Python?\n",
    "\n",
    "'''\n",
    "Lambda functions in Python offer several advantages and have some limitations when compared to regular (named) functions:\n",
    "    \n",
    "Advantages of Lambda Functions:\n",
    "\n",
    "1.Conciseness: Lambda functions are concise and can be defined in a single line, making code more compact \n",
    "    and readable for simple operations.\n",
    "2.Anonymous: Lambda functions are anonymous, which means they don't require a function name declaration. \n",
    "    This is useful for short, one-off functions that are only needed temporarily.\n",
    "3.Inline Usage: Lambda functions are often used inline as arguments to higher-order functions like \n",
    "    map(), filter(), and sorted(), making code more readable and expressive.\n",
    "4.Functional Programming: Lambda functions are well-suited for functional programming constructs, \n",
    "    such as creating functions on-the-fly for functional transformations.\n",
    "\n",
    "Limitations of Lambda Functions:\n",
    "\n",
    "1.Single Expression: Lambda functions are limited to a single expression. They can't contain multiple \n",
    "    statements or complex logic, which restricts their use for more complex tasks.\n",
    "2.Lack of Name: Lambda functions are anonymous, which can make debugging and error messages less informative. \n",
    "    Regular functions have names that help with debugging.\n",
    "3.Limited Reusability: Lambda functions are typically used for one-off operations. If you need to reuse a \n",
    "    function in multiple places, regular named functions are more appropriate.\n",
    "4.Readability: While lambda functions are concise, they may become less readable for complex expressions \n",
    "    or when combined with other complex code. Regular functions with meaningful names can enhance code readability.\n",
    "5.Limited Functionality: Lambda functions are not suitable for functions with extensive logic, error handling, \n",
    "    or complex control flow. Regular functions provide better structure for such cases.\n",
    "'''\n"
   ]
  },
  {
   "cell_type": "code",
   "execution_count": 4,
   "id": "07529e72",
   "metadata": {},
   "outputs": [],
   "source": [
    "#5. Are lambda functions in Python able to access variables defined outside of their own scope?\n",
    "#   Explain with an example.\n",
    "\n",
    "'''\n",
    "Yes, lambda functions in Python can access variables defined outside of their own scope. \n",
    "This is possible because lambda functions have access to the variables in the enclosing lexical scope \n",
    "(i.e., the scope where they are defined). This behavior is often referred to as \"lexical scoping\" or \"closure.\"\n",
    "\n",
    "Here's an example to illustrate this:\n",
    "'''\n",
    "def create_multiplier(factor):\n",
    "    return lambda x: x * factor\n",
    "\n",
    "double = create_multiplier(2)\n",
    "triple = create_multiplier(3)\n",
    "\n",
    "result1 = double(5)  # Calls the lambda function with x=5 and factor=2, result1 is 10\n",
    "result2 = triple(5)  # Calls the lambda function with x=5 and factor=3, result2 is 15\n"
   ]
  },
  {
   "cell_type": "code",
   "execution_count": 6,
   "id": "8919fea8",
   "metadata": {},
   "outputs": [
    {
     "name": "stdout",
     "output_type": "stream",
     "text": [
      "25\n"
     ]
    }
   ],
   "source": [
    "#6. Write a lambda function to calculate the square of a given number.\n",
    "\n",
    "square = lambda x: x**2\n",
    "result = square(5)  # Calculates the square of 5, result is 25\n",
    "print(result)"
   ]
  },
  {
   "cell_type": "code",
   "execution_count": 7,
   "id": "79edf705",
   "metadata": {},
   "outputs": [
    {
     "name": "stdout",
     "output_type": "stream",
     "text": [
      "62\n"
     ]
    }
   ],
   "source": [
    "#7. Create a lambda function to find the maximum value in a list of integers.\n",
    "\n",
    "find_max = lambda lst: max(lst, default=None)\n",
    "numbers = [12, 45, 8, 27, 5, 62]\n",
    "maximum = find_max(numbers)  # Finds the maximum value in the list, maximum is 62\n",
    "print(maximum)\n"
   ]
  },
  {
   "cell_type": "code",
   "execution_count": 8,
   "id": "d15532bd",
   "metadata": {},
   "outputs": [
    {
     "name": "stdout",
     "output_type": "stream",
     "text": [
      "[12, 8, 62]\n"
     ]
    }
   ],
   "source": [
    "#8. Implement a lambda function to filter out all the even numbers from a list of integers.\n",
    "\n",
    "filter_even = lambda lst: list(filter(lambda x: x % 2 == 0, lst))\n",
    "numbers = [12, 45, 8, 27, 5, 62]\n",
    "even_numbers = filter_even(numbers)  # Filters out even numbers, even_numbers is [12, 8, 62]\n",
    "print(even_numbers)"
   ]
  },
  {
   "cell_type": "code",
   "execution_count": 9,
   "id": "1dc21837",
   "metadata": {},
   "outputs": [
    {
     "name": "stdout",
     "output_type": "stream",
     "text": [
      "['date', 'apple', 'banana', 'cherry']\n"
     ]
    }
   ],
   "source": [
    "#9. Write a lambda function to sort a list of strings in ascending order based on the length of each string.\n",
    "\n",
    "sort_by_length = lambda lst: sorted(lst, key=lambda x: len(x))\n",
    "words = ['apple', 'banana', 'cherry', 'date']\n",
    "sorted_words = sort_by_length(words)  # Sorts the words by length, sorted_words is ['date', 'apple', 'cherry', 'banana']\n",
    "print(sorted_words)"
   ]
  },
  {
   "cell_type": "code",
   "execution_count": 10,
   "id": "cf13a7a5",
   "metadata": {},
   "outputs": [
    {
     "name": "stdout",
     "output_type": "stream",
     "text": [
      "[3, 4, 5]\n"
     ]
    }
   ],
   "source": [
    "#10. Create a lambda function that takes two lists as input and returns a new list containing the\n",
    "#    common elements between the two lists.\n",
    "\n",
    "find_common_elements = lambda list1, list2: [x for x in list1 if x in list2]\n",
    "list1 = [1, 2, 3, 4, 5]\n",
    "list2 = [3, 4, 5, 6, 7]\n",
    "common_elements = find_common_elements(list1, list2)  # Finds the common elements, common_elements is [3, 4, 5]\n",
    "print(common_elements)"
   ]
  },
  {
   "cell_type": "code",
   "execution_count": 12,
   "id": "8778ccf8",
   "metadata": {},
   "outputs": [
    {
     "name": "stdout",
     "output_type": "stream",
     "text": [
      "24\n"
     ]
    }
   ],
   "source": [
    "#11. Write a recursive function to calculate the factorial of a given positive integer.\n",
    "\n",
    "def factorial(n):\n",
    "    if n == 0:\n",
    "        return 1\n",
    "    else:\n",
    "        return n * factorial(n - 1)\n",
    "    \n",
    "result = factorial(4)  # Calculates 5!\n",
    "print(result)  # Output: 120\n"
   ]
  },
  {
   "cell_type": "code",
   "execution_count": 13,
   "id": "4bfc4a64",
   "metadata": {},
   "outputs": [
    {
     "name": "stdout",
     "output_type": "stream",
     "text": [
      "13\n"
     ]
    }
   ],
   "source": [
    "#12. Implement a recursive function to compute the nth Fibonacci number.\n",
    "\n",
    "def fibonacci(n):\n",
    "    if n <= 0:\n",
    "        return 0\n",
    "    elif n == 1:\n",
    "        return 1\n",
    "    else:\n",
    "        return fibonacci(n - 1) + fibonacci(n - 2)\n",
    "    \n",
    "result = fibonacci(7)  # Calculates the 7th Fibonacci number\n",
    "print(result)  # Output: 13\n"
   ]
  },
  {
   "cell_type": "code",
   "execution_count": 14,
   "id": "cb13500b",
   "metadata": {},
   "outputs": [
    {
     "name": "stdout",
     "output_type": "stream",
     "text": [
      "15\n"
     ]
    }
   ],
   "source": [
    "#13. Create a recursive function to find the sum of all the elements in a given list.\n",
    "\n",
    "def recursive_sum(lst):\n",
    "    if not lst:\n",
    "        return 0\n",
    "    else:\n",
    "        return lst[0] + recursive_sum(lst[1:])\n",
    "\n",
    "numbers = [1, 2, 3, 4, 5]\n",
    "result = recursive_sum(numbers)  # Calculates the sum of elements in the list\n",
    "print(result)  # Output: 15\n"
   ]
  },
  {
   "cell_type": "code",
   "execution_count": 15,
   "id": "fe79b68e",
   "metadata": {},
   "outputs": [
    {
     "name": "stdout",
     "output_type": "stream",
     "text": [
      "True\n",
      "False\n",
      "True\n"
     ]
    }
   ],
   "source": [
    "#14. Write a recursive function to determine whether a given string is a palindrome.\n",
    "\n",
    "def is_palindrome(s):\n",
    "    # Remove spaces and convert to lowercase for case-insensitive comparison\n",
    "    s = s.replace(\" \", \"\").lower()\n",
    "    \n",
    "    if len(s) <= 1:\n",
    "        return True\n",
    "    elif s[0] != s[-1]:\n",
    "        return False\n",
    "    else:\n",
    "        return is_palindrome(s[1:-1])\n",
    "\n",
    "print(is_palindrome(\"racecar\"))  # True\n",
    "print(is_palindrome(\"hello\"))    # False\n",
    "print(is_palindrome(\"A man a plan a canal Panama\"))  # True (case-insensitive and ignoring spaces)\n"
   ]
  },
  {
   "cell_type": "code",
   "execution_count": 16,
   "id": "89c186bd",
   "metadata": {},
   "outputs": [
    {
     "name": "stdout",
     "output_type": "stream",
     "text": [
      "6\n"
     ]
    }
   ],
   "source": [
    "#15. Implement a recursive function to find the greatest common divisor (GCD) of two positive integers.\n",
    "\n",
    "def gcd(a, b):\n",
    "    if b == 0:\n",
    "        return a\n",
    "    else:\n",
    "        return gcd(b, a % b)\n",
    "    \n",
    "result = gcd(48, 18)  # Calculates the GCD of 48 and 18\n",
    "print(result)  # Output: 6\n"
   ]
  },
  {
   "cell_type": "code",
   "execution_count": null,
   "id": "17f15e34",
   "metadata": {},
   "outputs": [],
   "source": []
  }
 ],
 "metadata": {
  "kernelspec": {
   "display_name": "Python 3 (ipykernel)",
   "language": "python",
   "name": "python3"
  },
  "language_info": {
   "codemirror_mode": {
    "name": "ipython",
    "version": 3
   },
   "file_extension": ".py",
   "mimetype": "text/x-python",
   "name": "python",
   "nbconvert_exporter": "python",
   "pygments_lexer": "ipython3",
   "version": "3.9.12"
  }
 },
 "nbformat": 4,
 "nbformat_minor": 5
}
